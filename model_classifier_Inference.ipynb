{
 "cells": [
  {
   "cell_type": "markdown",
   "metadata": {},
   "source": [
    "# Load Inference Module"
   ]
  },
  {
   "cell_type": "code",
   "execution_count": 10,
   "metadata": {},
   "outputs": [],
   "source": [
    "from GymAssistantClassifier import GymAssistantClassifier\n",
    "# Using pre-trained TFLite models\n",
    "clf = GymAssistantClassifier('exercise_classifier_v3.tflite')"
   ]
  },
  {
   "cell_type": "markdown",
   "metadata": {},
   "source": [
    "# Running Infrence - Example 1"
   ]
  },
  {
   "cell_type": "code",
   "execution_count": 11,
   "metadata": {},
   "outputs": [
    {
     "data": {
      "text/plain": [
       "'pushups'"
      ]
     },
     "execution_count": 11,
     "metadata": {},
     "output_type": "execute_result"
    }
   ],
   "source": [
    "# Using a datapoint that denotes a pushup. This is an array of size 36. \n",
    "# The first 18 elements are the x-coordinates of the keypoints, the next 18 are the y-coordinates of the keypoints\n",
    "inp_pushup = [866.469,778.292,746.965,697.863,703.836,809.622,803.724,821.425,631.299,529.483,415.826,658.756,572.517,523.592,858.634,868.470,821.323,870.297,537.271,541.225,539.221,648.971,715.638,545.140,627.396,703.875,590.201,617.607,617.595,635.322,652.921,688.137,521.554,523.591,503.956,662.689\n",
    "]\n",
    "# Running the prediction using the model\n",
    "clf.predict(inp_pushup)"
   ]
  },
  {
   "cell_type": "code",
   "execution_count": 12,
   "metadata": {},
   "outputs": [
    {
     "data": {
      "text/plain": [
       "{'squats': 0.0,\n",
       " 'lunges': 5.70489e-06,\n",
       " 'bicep_curls': 0.0,\n",
       " 'situps': 2.9081928e-06,\n",
       " 'pushups': 0.9982424,\n",
       " 'tricep_extensions': 0.0,\n",
       " 'dumbbell_rows': 0.0017490657,\n",
       " 'jumping_jacks': 0.0,\n",
       " 'dumbbell_shoulder_press': 0.0,\n",
       " 'lateral_shoulder_raises': 1.1984083e-32}"
      ]
     },
     "execution_count": 12,
     "metadata": {},
     "output_type": "execute_result"
    }
   ],
   "source": [
    "# We can also fetch the prediction probabilities for each class\n",
    "clf.get_results()"
   ]
  },
  {
   "cell_type": "markdown",
   "metadata": {},
   "source": [
    "# Running Inference - Example 2"
   ]
  },
  {
   "cell_type": "code",
   "execution_count": 13,
   "metadata": {},
   "outputs": [
    {
     "data": {
      "text/plain": [
       "'squats'"
      ]
     },
     "execution_count": 13,
     "metadata": {},
     "output_type": "execute_result"
    }
   ],
   "source": [
    "# Here we are using a datapoint that denotes a squat. This is an array of size 36.\n",
    "inp_squat = [817.413,795.951,741.045,725.332,790.002,854.694,905.597,854.602,742.945,682.289,682.189,821.296,911.485,870.326,803.706,825.284,776.276,837.118,343.362,394.275,388.420,494.129,429.511,394.276,500.086,427.626,515.744,558.922,696.008,513.823,574.500,695.966,331.602,333.469,331.593,335.443]\n",
    "clf.predict(inp_squat)"
   ]
  },
  {
   "cell_type": "code",
   "execution_count": 14,
   "metadata": {},
   "outputs": [
    {
     "data": {
      "text/plain": [
       "{'squats': 0.6266246,\n",
       " 'lunges': 0.02634988,\n",
       " 'bicep_curls': 0.10494372,\n",
       " 'situps': 0.0037579748,\n",
       " 'pushups': 0.00012433177,\n",
       " 'tricep_extensions': 0.0882034,\n",
       " 'dumbbell_rows': 0.0020555279,\n",
       " 'jumping_jacks': 0.05982284,\n",
       " 'dumbbell_shoulder_press': 0.08554192,\n",
       " 'lateral_shoulder_raises': 0.0025757854}"
      ]
     },
     "execution_count": 14,
     "metadata": {},
     "output_type": "execute_result"
    }
   ],
   "source": [
    "# Getting probabilities of each class\n",
    "clf.get_results()"
   ]
  },
  {
   "cell_type": "code",
   "execution_count": null,
   "metadata": {},
   "outputs": [],
   "source": []
  }
 ],
 "metadata": {
  "kernelspec": {
   "display_name": "Python 3.10.5 ('gymassistant')",
   "language": "python",
   "name": "python3"
  },
  "language_info": {
   "codemirror_mode": {
    "name": "ipython",
    "version": 3
   },
   "file_extension": ".py",
   "mimetype": "text/x-python",
   "name": "python",
   "nbconvert_exporter": "python",
   "pygments_lexer": "ipython3",
   "version": "3.10.5 (tags/v3.10.5:f377153, Jun  6 2022, 16:14:13) [MSC v.1929 64 bit (AMD64)]"
  },
  "orig_nbformat": 4,
  "vscode": {
   "interpreter": {
    "hash": "ee218038b13b7bda7aa35d70f173877cb1e420ad0e9b0aa976e185133129b888"
   }
  }
 },
 "nbformat": 4,
 "nbformat_minor": 2
}
